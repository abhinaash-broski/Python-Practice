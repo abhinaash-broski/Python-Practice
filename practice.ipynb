{
 "cells": [
  {
   "cell_type": "markdown",
   "id": "9cf0d72a",
   "metadata": {},
   "source": [
    "**Sum of Sum of Series** <br>\n",
    "eg: n=5, 1,2,3,4,5 <br>\n",
    "series(sum of series): 1, 3, 6, 10 ,15 <br>\n",
    "sum of series(sum of series): 1, 4, 10, 20, 35\n",
    "\n"
   ]
  },
  {
   "cell_type": "code",
   "execution_count": 5,
   "id": "6d110757",
   "metadata": {},
   "outputs": [
    {
     "name": "stdout",
     "output_type": "stream",
     "text": [
      "Series:  [1, 2, 3, 4, 5, 6, 7, 8, 9, 10, 11, 12, 13]\n",
      "Sum of each series:  [1, 3, 6, 10, 15, 21, 28, 36, 45, 55, 66, 78, 91]\n",
      "Cumulative sum of series:  [1, 4, 10, 20, 35, 56, 84, 120, 165, 220, 286, 364, 455]\n",
      "Total Sum of the Sums of Series with 13  numbers is:  455\n"
     ]
    }
   ],
   "source": [
    "n= int(input(\"enter the number of series: \"))\n",
    "sum=0\n",
    "series = []\n",
    "sumOfSeries = []\n",
    "sumOfSeriesSum = []\n",
    "for i in range (1, n+1): \n",
    "    sum_i=0\n",
    "    series.append(i)\n",
    "    for j in range (1,i+1): \n",
    "        sum_i=sum_i+j\n",
    "    sumOfSeries.append(sum_i) \n",
    "    sum=sum+sum_i\n",
    "    sumOfSeriesSum.append(sum)\n",
    "\n",
    "print(\"Series: \", series)\n",
    "print(\"Sum of each series: \", sumOfSeries)\n",
    "print(\"Cumulative sum of series: \", sumOfSeriesSum)\n",
    "print(\"Total Sum of the Sums of Series with\", n, \" numbers is: \",sum)"
   ]
  },
  {
   "cell_type": "markdown",
   "id": "59bd8bfa",
   "metadata": {},
   "source": [
    "**Binary Identification** <br>\n",
    "Identify is the input number is binary is not. <br>\n",
    "eg: 1010101 is binary and 10910101 is not <br>\n",
    "The logic will be to get the remainder of the number when divided by 10, if the remainder is only either 1 or 0. Print the number is binary else, not binary."
   ]
  },
  {
   "cell_type": "code",
   "execution_count": 12,
   "id": "336f14ac",
   "metadata": {},
   "outputs": [
    {
     "name": "stdout",
     "output_type": "stream",
     "text": [
      "2111111 is not binary\n"
     ]
    }
   ],
   "source": [
    "n = int(input(\"Enter any long integer: \"))\n",
    "is_binary = True\n",
    "temp = n \n",
    "while temp > 0:\n",
    "    digit = temp % 10\n",
    "    if digit != 0 and digit != 1:\n",
    "        is_binary = False\n",
    "        break\n",
    "    temp //= 10\n",
    "\n",
    "if is_binary: # Check is its true or false\n",
    "    print(f\"{n} is binary\")\n",
    "else:\n",
    "    print(f\"{n} is not binary\")"
   ]
  },
  {
   "cell_type": "markdown",
   "id": "f0624edf",
   "metadata": {},
   "source": [
    "**Odd or Even using BITWISE AND** <br>\n",
    "The last bit of all odd numbers is always 1, while for even numbers it’s 0. So, when performing bitwise AND operation with 1, odd numbers give 1, and even numbers give 0."
   ]
  },
  {
   "cell_type": "code",
   "execution_count": 22,
   "id": "340ffc24",
   "metadata": {},
   "outputs": [
    {
     "name": "stdout",
     "output_type": "stream",
     "text": [
      "15 is Odd\n"
     ]
    }
   ],
   "source": [
    "def isEven(number):\n",
    "    # Bitwise AND with 1 checks the least significant bit\n",
    "    # If result is 0, number is even; if 1, number is odd\n",
    "    if (number & 1) == 0:\n",
    "        return True  # Even\n",
    "    else:\n",
    "        return False  # Odd\n",
    "\n",
    "def main():\n",
    "    # number=int(input(\"Enter an number: \"))\n",
    "    number = 15\n",
    "    if isEven(number): \n",
    "        print(number, \"is Even\")\n",
    "    else: \n",
    "        print(number, \"is Odd\")\n",
    "\n",
    "# Call the main function\n",
    "main()"
   ]
  }
 ],
 "metadata": {
  "kernelspec": {
   "display_name": "base",
   "language": "python",
   "name": "python3"
  },
  "language_info": {
   "codemirror_mode": {
    "name": "ipython",
    "version": 3
   },
   "file_extension": ".py",
   "mimetype": "text/x-python",
   "name": "python",
   "nbconvert_exporter": "python",
   "pygments_lexer": "ipython3",
   "version": "3.13.5"
  }
 },
 "nbformat": 4,
 "nbformat_minor": 5
}
