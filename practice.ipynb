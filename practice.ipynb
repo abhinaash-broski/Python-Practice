{
 "cells": [
  {
   "cell_type": "markdown",
   "id": "9cf0d72a",
   "metadata": {},
   "source": [
    "*Sum of Sum of Series*\n",
    "eg: n=5, 1,2,3,4,5\n",
    "series(sum of series): 1, 3, 6, 10 ,15 \n",
    "sum of series(sum of series): 1, 4, 10, 20, 35\n",
    "\n"
   ]
  },
  {
   "cell_type": "code",
   "execution_count": null,
   "id": "6d110757",
   "metadata": {
    "vscode": {
     "languageId": "plaintext"
    }
   },
   "outputs": [],
   "source": [
    "n= int(input(\"enter the number of series: \"))\n",
    "sum=0\n",
    "for i in range (1, n+1): \n",
    "    sum_i=0\n",
    "    for j in range (1,i+1): \n",
    "        sum_i=sum_i+j \n",
    "        \n",
    "    sum=sum+sum_i\n",
    "print(\"Sum of the sums is: \",sum)"
   ]
  },
  {
   "cell_type": "code",
   "execution_count": null,
   "id": "03af46f5",
   "metadata": {
    "vscode": {
     "languageId": "plaintext"
    }
   },
   "outputs": [],
   "source": []
  }
 ],
 "metadata": {
  "language_info": {
   "name": "python"
  }
 },
 "nbformat": 4,
 "nbformat_minor": 5
}
